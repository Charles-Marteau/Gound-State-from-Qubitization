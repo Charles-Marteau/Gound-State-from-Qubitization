{
 "cells": [
  {
   "cell_type": "code",
   "execution_count": 1,
   "id": "2f56fbfe",
   "metadata": {},
   "outputs": [
    {
     "data": {
      "text/plain": [
       "(1+2j)"
      ]
     },
     "execution_count": 1,
     "metadata": {},
     "output_type": "execute_result"
    }
   ],
   "source": [
    "complex(1,2)"
   ]
  },
  {
   "cell_type": "code",
   "execution_count": 2,
   "id": "f418ee99",
   "metadata": {},
   "outputs": [
    {
     "data": {
      "text/plain": [
       "(1+2j)"
      ]
     },
     "execution_count": 2,
     "metadata": {},
     "output_type": "execute_result"
    }
   ],
   "source": [
    "1+2j"
   ]
  },
  {
   "cell_type": "code",
   "execution_count": 3,
   "id": "d07cbe29",
   "metadata": {},
   "outputs": [],
   "source": [
    "z=1+2j"
   ]
  },
  {
   "cell_type": "code",
   "execution_count": 4,
   "id": "f9f855c2",
   "metadata": {},
   "outputs": [
    {
     "data": {
      "text/plain": [
       "(-3+4j)"
      ]
     },
     "execution_count": 4,
     "metadata": {},
     "output_type": "execute_result"
    }
   ],
   "source": [
    "z*z"
   ]
  },
  {
   "cell_type": "code",
   "execution_count": 5,
   "id": "9982d9ba",
   "metadata": {},
   "outputs": [
    {
     "data": {
      "text/plain": [
       "20"
      ]
     },
     "execution_count": 5,
     "metadata": {},
     "output_type": "execute_result"
    }
   ],
   "source": [
    "0o24"
   ]
  },
  {
   "cell_type": "code",
   "execution_count": 6,
   "id": "edacccce",
   "metadata": {},
   "outputs": [
    {
     "data": {
      "text/plain": [
       "40"
      ]
     },
     "execution_count": 6,
     "metadata": {},
     "output_type": "execute_result"
    }
   ],
   "source": [
    "0o24+0o24"
   ]
  },
  {
   "cell_type": "code",
   "execution_count": 7,
   "id": "073d15c6",
   "metadata": {},
   "outputs": [
    {
     "data": {
      "text/plain": [
       "12"
      ]
     },
     "execution_count": 7,
     "metadata": {},
     "output_type": "execute_result"
    }
   ],
   "source": [
    "0xc"
   ]
  },
  {
   "cell_type": "code",
   "execution_count": 8,
   "id": "c32e5d21",
   "metadata": {},
   "outputs": [
    {
     "data": {
      "text/plain": [
       "'0o14'"
      ]
     },
     "execution_count": 8,
     "metadata": {},
     "output_type": "execute_result"
    }
   ],
   "source": [
    "oct(12)"
   ]
  },
  {
   "cell_type": "code",
   "execution_count": 9,
   "id": "9ceaa798",
   "metadata": {},
   "outputs": [
    {
     "data": {
      "text/plain": [
       "5000"
      ]
     },
     "execution_count": 9,
     "metadata": {},
     "output_type": "execute_result"
    }
   ],
   "source": [
    "20000>>2"
   ]
  },
  {
   "cell_type": "code",
   "execution_count": 10,
   "id": "774cd13d",
   "metadata": {},
   "outputs": [
    {
     "data": {
      "text/plain": [
       "1"
      ]
     },
     "execution_count": 10,
     "metadata": {},
     "output_type": "execute_result"
    }
   ],
   "source": [
    "5>>2"
   ]
  },
  {
   "cell_type": "code",
   "execution_count": 11,
   "id": "bb7deeae",
   "metadata": {},
   "outputs": [
    {
     "data": {
      "text/plain": [
       "20"
      ]
     },
     "execution_count": 11,
     "metadata": {},
     "output_type": "execute_result"
    }
   ],
   "source": [
    "5<<2"
   ]
  },
  {
   "cell_type": "code",
   "execution_count": 12,
   "id": "1d7b80e9",
   "metadata": {},
   "outputs": [
    {
     "data": {
      "text/plain": [
       "40"
      ]
     },
     "execution_count": 12,
     "metadata": {},
     "output_type": "execute_result"
    }
   ],
   "source": [
    "5<<3"
   ]
  },
  {
   "cell_type": "code",
   "execution_count": 13,
   "id": "a8f7ddc9",
   "metadata": {},
   "outputs": [
    {
     "data": {
      "text/plain": [
       "0"
      ]
     },
     "execution_count": 13,
     "metadata": {},
     "output_type": "execute_result"
    }
   ],
   "source": [
    "5>>3"
   ]
  },
  {
   "cell_type": "code",
   "execution_count": 14,
   "id": "131ee6e8",
   "metadata": {},
   "outputs": [
    {
     "data": {
      "text/plain": [
       "0"
      ]
     },
     "execution_count": 14,
     "metadata": {},
     "output_type": "execute_result"
    }
   ],
   "source": [
    "6>>3"
   ]
  },
  {
   "cell_type": "code",
   "execution_count": 15,
   "id": "4543971a",
   "metadata": {},
   "outputs": [
    {
     "data": {
      "text/plain": [
       "48"
      ]
     },
     "execution_count": 15,
     "metadata": {},
     "output_type": "execute_result"
    }
   ],
   "source": [
    "6<<3"
   ]
  },
  {
   "cell_type": "code",
   "execution_count": 16,
   "id": "65e81caa",
   "metadata": {},
   "outputs": [
    {
     "data": {
      "text/plain": [
       "12"
      ]
     },
     "execution_count": 16,
     "metadata": {},
     "output_type": "execute_result"
    }
   ],
   "source": [
    "6<<1"
   ]
  },
  {
   "cell_type": "code",
   "execution_count": 17,
   "id": "d1474622",
   "metadata": {},
   "outputs": [
    {
     "data": {
      "text/plain": [
       "24"
      ]
     },
     "execution_count": 17,
     "metadata": {},
     "output_type": "execute_result"
    }
   ],
   "source": [
    "6<<2"
   ]
  },
  {
   "cell_type": "code",
   "execution_count": 18,
   "id": "cb5a9dbe",
   "metadata": {},
   "outputs": [
    {
     "data": {
      "text/plain": [
       "48"
      ]
     },
     "execution_count": 18,
     "metadata": {},
     "output_type": "execute_result"
    }
   ],
   "source": [
    "6<<3"
   ]
  },
  {
   "cell_type": "code",
   "execution_count": 19,
   "id": "ee10823b",
   "metadata": {},
   "outputs": [
    {
     "data": {
      "text/plain": [
       "96"
      ]
     },
     "execution_count": 19,
     "metadata": {},
     "output_type": "execute_result"
    }
   ],
   "source": [
    "6<<4"
   ]
  },
  {
   "cell_type": "code",
   "execution_count": 20,
   "id": "cdfa5a02",
   "metadata": {},
   "outputs": [
    {
     "data": {
      "text/plain": [
       "3"
      ]
     },
     "execution_count": 20,
     "metadata": {},
     "output_type": "execute_result"
    }
   ],
   "source": [
    "6>>1"
   ]
  },
  {
   "cell_type": "code",
   "execution_count": 21,
   "id": "b8a6178d",
   "metadata": {},
   "outputs": [
    {
     "data": {
      "text/plain": [
       "12"
      ]
     },
     "execution_count": 21,
     "metadata": {},
     "output_type": "execute_result"
    }
   ],
   "source": [
    "6*2"
   ]
  },
  {
   "cell_type": "code",
   "execution_count": 22,
   "id": "ebbb294a",
   "metadata": {},
   "outputs": [
    {
     "data": {
      "text/plain": [
       "24"
      ]
     },
     "execution_count": 22,
     "metadata": {},
     "output_type": "execute_result"
    }
   ],
   "source": [
    "6*2*2"
   ]
  },
  {
   "cell_type": "code",
   "execution_count": 23,
   "id": "7eed8ef1",
   "metadata": {},
   "outputs": [
    {
     "data": {
      "text/plain": [
       "1"
      ]
     },
     "execution_count": 23,
     "metadata": {},
     "output_type": "execute_result"
    }
   ],
   "source": [
    "7>>2"
   ]
  },
  {
   "cell_type": "code",
   "execution_count": 24,
   "id": "87b66f8d",
   "metadata": {},
   "outputs": [
    {
     "data": {
      "text/plain": [
       "28"
      ]
     },
     "execution_count": 24,
     "metadata": {},
     "output_type": "execute_result"
    }
   ],
   "source": [
    "7<<2"
   ]
  },
  {
   "cell_type": "code",
   "execution_count": 25,
   "id": "cc68e4e5",
   "metadata": {},
   "outputs": [
    {
     "data": {
      "text/plain": [
       "28"
      ]
     },
     "execution_count": 25,
     "metadata": {},
     "output_type": "execute_result"
    }
   ],
   "source": [
    "7*2*2"
   ]
  },
  {
   "cell_type": "code",
   "execution_count": 26,
   "id": "6a7a53e8",
   "metadata": {},
   "outputs": [
    {
     "data": {
      "text/plain": [
       "1.75"
      ]
     },
     "execution_count": 26,
     "metadata": {},
     "output_type": "execute_result"
    }
   ],
   "source": [
    "7/2/2"
   ]
  },
  {
   "cell_type": "code",
   "execution_count": 27,
   "id": "b68fb038",
   "metadata": {},
   "outputs": [
    {
     "data": {
      "text/plain": [
       "16"
      ]
     },
     "execution_count": 27,
     "metadata": {},
     "output_type": "execute_result"
    }
   ],
   "source": [
    "pow(2,4)"
   ]
  },
  {
   "cell_type": "code",
   "execution_count": 28,
   "id": "a5f6c7c9",
   "metadata": {},
   "outputs": [],
   "source": [
    "x=3"
   ]
  },
  {
   "cell_type": "code",
   "execution_count": 29,
   "id": "0d4fb207",
   "metadata": {},
   "outputs": [],
   "source": [
    "y=2"
   ]
  },
  {
   "cell_type": "code",
   "execution_count": 30,
   "id": "b8019778",
   "metadata": {},
   "outputs": [
    {
     "data": {
      "text/plain": [
       "1.5"
      ]
     },
     "execution_count": 30,
     "metadata": {},
     "output_type": "execute_result"
    }
   ],
   "source": [
    "x/y"
   ]
  },
  {
   "cell_type": "code",
   "execution_count": 31,
   "id": "ee6bcc68",
   "metadata": {},
   "outputs": [
    {
     "data": {
      "text/plain": [
       "1"
      ]
     },
     "execution_count": 31,
     "metadata": {},
     "output_type": "execute_result"
    }
   ],
   "source": [
    "int(int(x)/int(y))"
   ]
  },
  {
   "cell_type": "code",
   "execution_count": 32,
   "id": "34bdb5ae",
   "metadata": {},
   "outputs": [
    {
     "data": {
      "text/plain": [
       "2"
      ]
     },
     "execution_count": 32,
     "metadata": {},
     "output_type": "execute_result"
    }
   ],
   "source": [
    "int('2')"
   ]
  },
  {
   "cell_type": "code",
   "execution_count": 33,
   "id": "a27e2ae5",
   "metadata": {},
   "outputs": [],
   "source": [
    "YO=[1,2\n",
    "    ,3]"
   ]
  },
  {
   "cell_type": "code",
   "execution_count": 34,
   "id": "36f778ff",
   "metadata": {},
   "outputs": [
    {
     "data": {
      "text/plain": [
       "[1, 2, 3]"
      ]
     },
     "execution_count": 34,
     "metadata": {},
     "output_type": "execute_result"
    }
   ],
   "source": [
    "YO"
   ]
  },
  {
   "cell_type": "code",
   "execution_count": 35,
   "id": "ec86bbc0",
   "metadata": {},
   "outputs": [
    {
     "data": {
      "text/plain": [
       "2"
      ]
     },
     "execution_count": 35,
     "metadata": {},
     "output_type": "execute_result"
    }
   ],
   "source": [
    "[1,[1,2]][1][1]"
   ]
  },
  {
   "cell_type": "code",
   "execution_count": 36,
   "id": "be040d78",
   "metadata": {},
   "outputs": [
    {
     "data": {
      "text/plain": [
       "['1', '2', '3']"
      ]
     },
     "execution_count": 36,
     "metadata": {},
     "output_type": "execute_result"
    }
   ],
   "source": [
    "list('123')"
   ]
  },
  {
   "cell_type": "code",
   "execution_count": 37,
   "id": "e09a04c3",
   "metadata": {},
   "outputs": [],
   "source": [
    "X = 'I dont  like the weather'"
   ]
  },
  {
   "cell_type": "code",
   "execution_count": 38,
   "id": "138f1018",
   "metadata": {},
   "outputs": [
    {
     "data": {
      "text/plain": [
       "['I', 'dont', '', 'like', 'the', 'weather']"
      ]
     },
     "execution_count": 38,
     "metadata": {},
     "output_type": "execute_result"
    }
   ],
   "source": [
    "Y=X.split(' ')\n",
    "Y"
   ]
  },
  {
   "cell_type": "code",
   "execution_count": 39,
   "id": "66c2ae76",
   "metadata": {},
   "outputs": [],
   "source": [
    "Y[0:3]=['I', 'do']"
   ]
  },
  {
   "cell_type": "code",
   "execution_count": 40,
   "id": "006c5420",
   "metadata": {},
   "outputs": [
    {
     "data": {
      "text/plain": [
       "['I', 'do', 'like', 'the', 'weather']"
      ]
     },
     "execution_count": 40,
     "metadata": {},
     "output_type": "execute_result"
    }
   ],
   "source": [
    "Y"
   ]
  },
  {
   "cell_type": "code",
   "execution_count": 41,
   "id": "3f739076",
   "metadata": {},
   "outputs": [
    {
     "data": {
      "text/plain": [
       "['I', 'do', 'like', 'the', 'weather']"
      ]
     },
     "execution_count": 41,
     "metadata": {},
     "output_type": "execute_result"
    }
   ],
   "source": [
    "Y"
   ]
  },
  {
   "cell_type": "code",
   "execution_count": 42,
   "id": "1f4da680",
   "metadata": {},
   "outputs": [],
   "source": [
    "Z=Y"
   ]
  },
  {
   "cell_type": "code",
   "execution_count": 43,
   "id": "e8b677e5",
   "metadata": {},
   "outputs": [
    {
     "data": {
      "text/plain": [
       "['I', 'do', 'like', 'the', 'weather']"
      ]
     },
     "execution_count": 43,
     "metadata": {},
     "output_type": "execute_result"
    }
   ],
   "source": [
    "Z"
   ]
  },
  {
   "cell_type": "code",
   "execution_count": 44,
   "id": "35e9c8c3",
   "metadata": {},
   "outputs": [
    {
     "data": {
      "text/plain": [
       "['I', 'do', 'like', 'the', 'weather']"
      ]
     },
     "execution_count": 44,
     "metadata": {},
     "output_type": "execute_result"
    }
   ],
   "source": [
    "Y"
   ]
  },
  {
   "cell_type": "code",
   "execution_count": 45,
   "id": "3b89879b",
   "metadata": {},
   "outputs": [],
   "source": [
    "squarepairs = [[0,800,200],[1,1,1]]\n",
    "squarepairs2 = [[0,0,200],[1,1,1]]"
   ]
  },
  {
   "cell_type": "code",
   "execution_count": 46,
   "id": "29a3e99c",
   "metadata": {},
   "outputs": [
    {
     "data": {
      "text/plain": [
       "[0, 0, 200]"
      ]
     },
     "execution_count": 46,
     "metadata": {},
     "output_type": "execute_result"
    }
   ],
   "source": [
    "min(squarepairs2)"
   ]
  },
  {
   "cell_type": "code",
   "execution_count": 47,
   "id": "2eaff1c5",
   "metadata": {},
   "outputs": [
    {
     "data": {
      "text/plain": [
       "[0, 800, 200]"
      ]
     },
     "execution_count": 47,
     "metadata": {},
     "output_type": "execute_result"
    }
   ],
   "source": [
    "min(squarepairs)"
   ]
  },
  {
   "cell_type": "code",
   "execution_count": 48,
   "id": "1a336524",
   "metadata": {},
   "outputs": [
    {
     "data": {
      "text/plain": [
       "[[0, 0, 200], [1, 1, 1]]"
      ]
     },
     "execution_count": 48,
     "metadata": {},
     "output_type": "execute_result"
    }
   ],
   "source": [
    "min(squarepairs,squarepairs2)"
   ]
  },
  {
   "cell_type": "code",
   "execution_count": 49,
   "id": "93c3a566",
   "metadata": {},
   "outputs": [
    {
     "data": {
      "text/plain": [
       "([[0, 800, 200], [1, 1, 1]], [[0, 0, 200], [1, 1, 1]])"
      ]
     },
     "execution_count": 49,
     "metadata": {},
     "output_type": "execute_result"
    }
   ],
   "source": [
    "squarepairs,squarepairs2"
   ]
  },
  {
   "cell_type": "code",
   "execution_count": 50,
   "id": "f00fd764",
   "metadata": {},
   "outputs": [
    {
     "data": {
      "text/plain": [
       "[1, 2, 3, 3]"
      ]
     },
     "execution_count": 50,
     "metadata": {},
     "output_type": "execute_result"
    }
   ],
   "source": [
    "min([1,2,3,4],[1,2,3,3])"
   ]
  },
  {
   "cell_type": "code",
   "execution_count": 51,
   "id": "e67b3bba",
   "metadata": {},
   "outputs": [],
   "source": [
    "NTM=[1,2,3]\n",
    "NTM.append([4,5,6])"
   ]
  },
  {
   "cell_type": "code",
   "execution_count": 52,
   "id": "edf3b741",
   "metadata": {},
   "outputs": [],
   "source": [
    "X=NTM"
   ]
  },
  {
   "cell_type": "code",
   "execution_count": 53,
   "id": "093d308e",
   "metadata": {},
   "outputs": [
    {
     "data": {
      "text/plain": [
       "[1, 2, 3, [4, 5, 6]]"
      ]
     },
     "execution_count": 53,
     "metadata": {},
     "output_type": "execute_result"
    }
   ],
   "source": [
    "X"
   ]
  },
  {
   "cell_type": "code",
   "execution_count": 54,
   "id": "c0013332",
   "metadata": {},
   "outputs": [],
   "source": [
    "a = [1,5,7,9]\n",
    "b = [10,20,30,40]\n",
    "a.insert(3,b)"
   ]
  },
  {
   "cell_type": "code",
   "execution_count": 55,
   "id": "dccc7b28",
   "metadata": {},
   "outputs": [
    {
     "data": {
      "text/plain": [
       "[1, 5, 7, [10, 20, 30, 40], 9]"
      ]
     },
     "execution_count": 55,
     "metadata": {},
     "output_type": "execute_result"
    }
   ],
   "source": [
    "a"
   ]
  },
  {
   "cell_type": "code",
   "execution_count": 56,
   "id": "af961531",
   "metadata": {},
   "outputs": [
    {
     "data": {
      "text/plain": [
       "[1, 5, 7, [10, 20, 30, 40], 9]"
      ]
     },
     "execution_count": 56,
     "metadata": {},
     "output_type": "execute_result"
    }
   ],
   "source": [
    "a"
   ]
  },
  {
   "cell_type": "code",
   "execution_count": 57,
   "id": "c8ff7bda",
   "metadata": {},
   "outputs": [],
   "source": [
    "a.extend(b)"
   ]
  },
  {
   "cell_type": "code",
   "execution_count": 58,
   "id": "fb927969",
   "metadata": {},
   "outputs": [
    {
     "data": {
      "text/plain": [
       "[1, 5, 7, [10, 20, 30, 40], 9, 10, 20, 30, 40]"
      ]
     },
     "execution_count": 58,
     "metadata": {},
     "output_type": "execute_result"
    }
   ],
   "source": [
    "a"
   ]
  },
  {
   "cell_type": "code",
   "execution_count": 59,
   "id": "5532dc45",
   "metadata": {},
   "outputs": [],
   "source": [
    "newlist=[]\n",
    "oldlist = [7, 9, -3, 5, -8, 19]\n",
    "for i in oldlist:\n",
    "     if i < 0 : newlist.append(i)"
   ]
  },
  {
   "cell_type": "code",
   "execution_count": 60,
   "id": "645044ae",
   "metadata": {},
   "outputs": [
    {
     "data": {
      "text/plain": [
       "[-3, -8]"
      ]
     },
     "execution_count": 60,
     "metadata": {},
     "output_type": "execute_result"
    }
   ],
   "source": [
    "newlist"
   ]
  },
  {
   "cell_type": "code",
   "execution_count": 61,
   "id": "d5cdd0da",
   "metadata": {},
   "outputs": [
    {
     "data": {
      "text/plain": [
       "[1, 5, 7, 9, 10, 20, 30, 40]"
      ]
     },
     "execution_count": 61,
     "metadata": {},
     "output_type": "execute_result"
    }
   ],
   "source": [
    "a = [1,5,7,9]\n",
    "b = [10,20,30,40]\n",
    "a.extend(b)\n",
    "a"
   ]
  },
  {
   "cell_type": "code",
   "execution_count": 62,
   "id": "ae573eb4",
   "metadata": {},
   "outputs": [
    {
     "data": {
      "text/plain": [
       "['Welcome', 'to', 'the', 'Ministry', 'of', 'Silly', 'Walks']"
      ]
     },
     "execution_count": 62,
     "metadata": {},
     "output_type": "execute_result"
    }
   ],
   "source": [
    "a='Welcome to the Ministry of Silly Walks'\n",
    "a.split()"
   ]
  },
  {
   "cell_type": "code",
   "execution_count": 63,
   "id": "1b4675bc",
   "metadata": {},
   "outputs": [
    {
     "data": {
      "text/plain": [
       "['W', 'lcome to the Ministry of Silly Walks']"
      ]
     },
     "execution_count": 63,
     "metadata": {},
     "output_type": "execute_result"
    }
   ],
   "source": [
    "a.split('e',maxsplit=1)"
   ]
  },
  {
   "cell_type": "code",
   "execution_count": 64,
   "id": "bd119421",
   "metadata": {},
   "outputs": [
    {
     "data": {
      "text/plain": [
       "'Welcome to the Ministry of Silly Walks'"
      ]
     },
     "execution_count": 64,
     "metadata": {},
     "output_type": "execute_result"
    }
   ],
   "source": [
    "a"
   ]
  },
  {
   "cell_type": "code",
   "execution_count": null,
   "id": "c7f4aa04",
   "metadata": {},
   "outputs": [],
   "source": []
  },
  {
   "cell_type": "code",
   "execution_count": 65,
   "id": "48f45d72",
   "metadata": {},
   "outputs": [
    {
     "data": {
      "text/plain": [
       "[5]"
      ]
     },
     "execution_count": 65,
     "metadata": {},
     "output_type": "execute_result"
    }
   ],
   "source": [
    "thelist = [0,5,10,15,20]\n",
    "thelist[1:2]"
   ]
  },
  {
   "cell_type": "code",
   "execution_count": 66,
   "id": "41ee0350",
   "metadata": {},
   "outputs": [
    {
     "data": {
      "text/plain": [
       "[0, 5, 10, 15, 20]"
      ]
     },
     "execution_count": 66,
     "metadata": {},
     "output_type": "execute_result"
    }
   ],
   "source": [
    "thelist2=thelist\n",
    "thelist"
   ]
  },
  {
   "cell_type": "code",
   "execution_count": 67,
   "id": "b47835da",
   "metadata": {},
   "outputs": [
    {
     "data": {
      "text/plain": [
       "[0, 15, 10, 15, 20]"
      ]
     },
     "execution_count": 67,
     "metadata": {},
     "output_type": "execute_result"
    }
   ],
   "source": [
    "thelist = [0,5,10,15,20]\n",
    "thelist.remove(5)\n",
    "thelist[1:1]=[15]\n",
    "thelist"
   ]
  },
  {
   "cell_type": "code",
   "execution_count": 68,
   "id": "e22730db",
   "metadata": {},
   "outputs": [
    {
     "data": {
      "text/plain": [
       "[0, 10, 15, 15, 20]"
      ]
     },
     "execution_count": 68,
     "metadata": {},
     "output_type": "execute_result"
    }
   ],
   "source": [
    "thelist.sort()\n",
    "thelist"
   ]
  },
  {
   "cell_type": "code",
   "execution_count": 69,
   "id": "05043a8b",
   "metadata": {},
   "outputs": [],
   "source": [
    "def comp(a,b) :\n",
    "    if cmp(a,b)==1 :  return 0\n",
    "    else : 1"
   ]
  },
  {
   "cell_type": "code",
   "execution_count": 70,
   "id": "7b679b9b",
   "metadata": {},
   "outputs": [
    {
     "data": {
      "text/plain": [
       "1"
      ]
     },
     "execution_count": 70,
     "metadata": {},
     "output_type": "execute_result"
    }
   ],
   "source": [
    "min(1,2)"
   ]
  },
  {
   "cell_type": "code",
   "execution_count": 71,
   "id": "72d1085b",
   "metadata": {},
   "outputs": [],
   "source": [
    "def comp1(a,b) :\n",
    "    if a-b>0 or a==b :  return 1\n",
    "    else : return 0"
   ]
  },
  {
   "cell_type": "code",
   "execution_count": 72,
   "id": "cde6345a",
   "metadata": {},
   "outputs": [
    {
     "ename": "TypeError",
     "evalue": "sort() takes no positional arguments",
     "output_type": "error",
     "traceback": [
      "\u001b[0;31m---------------------------------------------------------------------------\u001b[0m",
      "\u001b[0;31mTypeError\u001b[0m                                 Traceback (most recent call last)",
      "Input \u001b[0;32mIn [72]\u001b[0m, in \u001b[0;36m<cell line: 2>\u001b[0;34m()\u001b[0m\n\u001b[1;32m      1\u001b[0m X\u001b[38;5;241m=\u001b[39m[\u001b[38;5;241m2\u001b[39m,\u001b[38;5;241m1\u001b[39m,\u001b[38;5;241m4\u001b[39m,\u001b[38;5;241m3\u001b[39m,\u001b[38;5;241m5\u001b[39m]\n\u001b[0;32m----> 2\u001b[0m \u001b[43mX\u001b[49m\u001b[38;5;241;43m.\u001b[39;49m\u001b[43msort\u001b[49m\u001b[43m(\u001b[49m\u001b[43mcomp1\u001b[49m\u001b[43m)\u001b[49m\n\u001b[1;32m      3\u001b[0m X\n",
      "\u001b[0;31mTypeError\u001b[0m: sort() takes no positional arguments"
     ]
    }
   ],
   "source": [
    "X=[2,1,4,3,5]\n",
    "X.sort(comp1)\n",
    "X"
   ]
  },
  {
   "cell_type": "code",
   "execution_count": null,
   "id": "4403d105",
   "metadata": {},
   "outputs": [],
   "source": [
    "comp1(5,5)"
   ]
  },
  {
   "cell_type": "code",
   "execution_count": null,
   "id": "21dea6e6",
   "metadata": {},
   "outputs": [],
   "source": [
    "def nocase(a,b):\n",
    "    return cmp(a.lower(),b.lower())"
   ]
  },
  {
   "cell_type": "code",
   "execution_count": null,
   "id": "4dbac605",
   "metadata": {},
   "outputs": [],
   "source": [
    "names = ['fred','judy','Chris','Sam','alex','Heather']\n",
    "copynames = names[:]\n",
    "names.sort(nocase)\n",
    "names"
   ]
  },
  {
   "cell_type": "code",
   "execution_count": null,
   "id": "fafa068d",
   "metadata": {},
   "outputs": [],
   "source": [
    "d={1:100, (1,2):101, '1':102}"
   ]
  },
  {
   "cell_type": "code",
   "execution_count": null,
   "id": "f0c51558",
   "metadata": {},
   "outputs": [],
   "source": [
    "d['1']"
   ]
  },
  {
   "cell_type": "code",
   "execution_count": null,
   "id": "559cb499",
   "metadata": {},
   "outputs": [],
   "source": [
    "X = 'The number is %1.3f' % (700)\n",
    "X"
   ]
  },
  {
   "cell_type": "code",
   "execution_count": null,
   "id": "6c528e4f",
   "metadata": {},
   "outputs": [],
   "source": [
    "x=7\n",
    "y=0\n",
    "print(x/y)\n",
    "print(\"Now we’re done!\")"
   ]
  },
  {
   "cell_type": "code",
   "execution_count": null,
   "id": "bf1c7e1c",
   "metadata": {},
   "outputs": [],
   "source": [
    "x=7\n",
    "y=0\n",
    "try:\n",
    "   print(x/y)\n",
    "except ZeroDivisionError:\n",
    "   print(\"Oops - I can’t divide by zero, sorry!\")\n",
    "print(\"Now we’re done!\")"
   ]
  },
  {
   "cell_type": "code",
   "execution_count": null,
   "id": "b74bf443",
   "metadata": {},
   "outputs": [],
   "source": [
    "f = open('Documents/text.rtf','r')"
   ]
  },
  {
   "cell_type": "code",
   "execution_count": null,
   "id": "2c1346ad",
   "metadata": {},
   "outputs": [],
   "source": [
    "line=f.read()\n",
    "line"
   ]
  },
  {
   "cell_type": "code",
   "execution_count": null,
   "id": "6d78cba5",
   "metadata": {},
   "outputs": [],
   "source": [
    "values=(1,2,3)\n",
    "X=(4,)\n",
    "values+X"
   ]
  },
  {
   "cell_type": "code",
   "execution_count": null,
   "id": "5973776e",
   "metadata": {},
   "outputs": [],
   "source": [
    "f1=open('Documents/text.rtf','w+')"
   ]
  },
  {
   "cell_type": "code",
   "execution_count": null,
   "id": "e6d330b5",
   "metadata": {},
   "outputs": [],
   "source": [
    "f1.write('ma race')"
   ]
  },
  {
   "cell_type": "code",
   "execution_count": null,
   "id": "598ab7a7",
   "metadata": {},
   "outputs": [],
   "source": [
    "f1.read()"
   ]
  },
  {
   "cell_type": "code",
   "execution_count": null,
   "id": "0901dc69",
   "metadata": {},
   "outputs": [],
   "source": [
    "'yo'"
   ]
  },
  {
   "cell_type": "code",
   "execution_count": null,
   "id": "13874396",
   "metadata": {},
   "outputs": [],
   "source": [
    "f1=open('Documents/text.rtf','r+')"
   ]
  },
  {
   "cell_type": "code",
   "execution_count": null,
   "id": "79574b63",
   "metadata": {},
   "outputs": [],
   "source": [
    "text=f1.read()\n",
    "text"
   ]
  },
  {
   "cell_type": "code",
   "execution_count": null,
   "id": "c6ece0b3",
   "metadata": {},
   "outputs": [],
   "source": [
    "f1.close()"
   ]
  },
  {
   "cell_type": "code",
   "execution_count": null,
   "id": "28fc2f5a",
   "metadata": {},
   "outputs": [],
   "source": [
    "text2=text[:-1]\n",
    "text2"
   ]
  },
  {
   "cell_type": "code",
   "execution_count": null,
   "id": "cbbc0929",
   "metadata": {},
   "outputs": [],
   "source": [
    "f2=open('Documents/text.rtf','w+')"
   ]
  },
  {
   "cell_type": "code",
   "execution_count": null,
   "id": "8d700992",
   "metadata": {},
   "outputs": [],
   "source": [
    "f2.read()"
   ]
  },
  {
   "cell_type": "code",
   "execution_count": null,
   "id": "9fa5d7ca",
   "metadata": {},
   "outputs": [],
   "source": [
    "f2.write(text2 + '\\\\\\nou bien?}')"
   ]
  },
  {
   "cell_type": "code",
   "execution_count": null,
   "id": "9f54638b",
   "metadata": {},
   "outputs": [],
   "source": [
    "f2.close()"
   ]
  },
  {
   "cell_type": "code",
   "execution_count": null,
   "id": "654af95f",
   "metadata": {},
   "outputs": [],
   "source": [
    "f3=open('Documents/text.rtf','r+')"
   ]
  },
  {
   "cell_type": "code",
   "execution_count": null,
   "id": "70faf181",
   "metadata": {},
   "outputs": [],
   "source": [
    "f3.read()"
   ]
  },
  {
   "cell_type": "code",
   "execution_count": null,
   "id": "a3e68a98",
   "metadata": {},
   "outputs": [],
   "source": [
    "f3.close()"
   ]
  },
  {
   "cell_type": "code",
   "execution_count": null,
   "id": "e19ec80d",
   "metadata": {},
   "outputs": [],
   "source": [
    "msg='tg'\n",
    "print(msg)"
   ]
  },
  {
   "cell_type": "code",
   "execution_count": null,
   "id": "d60d8903",
   "metadata": {},
   "outputs": [],
   "source": [
    "outfile=open('Documents/text.rtf','r+')"
   ]
  },
  {
   "cell_type": "code",
   "execution_count": null,
   "id": "06398347",
   "metadata": {},
   "outputs": [],
   "source": [
    "text=outfile.read()\n",
    "text"
   ]
  },
  {
   "cell_type": "code",
   "execution_count": null,
   "id": "159350b7",
   "metadata": {},
   "outputs": [],
   "source": [
    "outfile.tell()"
   ]
  },
  {
   "cell_type": "code",
   "execution_count": null,
   "id": "5aadf158",
   "metadata": {},
   "outputs": [],
   "source": [
    "outfile.seek(12,0)"
   ]
  },
  {
   "cell_type": "code",
   "execution_count": null,
   "id": "2843214c",
   "metadata": {},
   "outputs": [],
   "source": [
    "print('jtmpa', file=outfile)"
   ]
  },
  {
   "cell_type": "code",
   "execution_count": null,
   "id": "434ea7c7",
   "metadata": {},
   "outputs": [],
   "source": [
    "outfile.close()"
   ]
  },
  {
   "cell_type": "code",
   "execution_count": null,
   "id": "9a5d1f6b",
   "metadata": {},
   "outputs": [],
   "source": [
    "outfile2=open('Documents/text.rtf','r+')"
   ]
  },
  {
   "cell_type": "code",
   "execution_count": null,
   "id": "17f2fd53",
   "metadata": {},
   "outputs": [],
   "source": [
    "outfile2.read()"
   ]
  },
  {
   "cell_type": "code",
   "execution_count": null,
   "id": "d2ce840e",
   "metadata": {},
   "outputs": [],
   "source": [
    "name = raw_input('What is your name?')\n",
    "print('Hi, %s, I like chocolate too')  % (name)"
   ]
  },
  {
   "cell_type": "code",
   "execution_count": null,
   "id": "32b9aa5f",
   "metadata": {},
   "outputs": [],
   "source": [
    "import sys"
   ]
  },
  {
   "cell_type": "code",
   "execution_count": null,
   "id": "b32a7a90",
   "metadata": {},
   "outputs": [],
   "source": [
    "f=sys.stdin"
   ]
  },
  {
   "cell_type": "code",
   "execution_count": null,
   "id": "b43a10cf",
   "metadata": {},
   "outputs": [],
   "source": [
    "f.read()"
   ]
  },
  {
   "cell_type": "code",
   "execution_count": null,
   "id": "86233305",
   "metadata": {},
   "outputs": [],
   "source": [
    "sys"
   ]
  },
  {
   "cell_type": "code",
   "execution_count": 73,
   "id": "892a72f6",
   "metadata": {},
   "outputs": [],
   "source": [
    "x=3"
   ]
  },
  {
   "cell_type": "code",
   "execution_count": 74,
   "id": "fdcf7aee",
   "metadata": {},
   "outputs": [],
   "source": [
    "y=x"
   ]
  },
  {
   "cell_type": "code",
   "execution_count": 75,
   "id": "f0f7ee20",
   "metadata": {},
   "outputs": [],
   "source": [
    "x=2"
   ]
  },
  {
   "cell_type": "code",
   "execution_count": 76,
   "id": "26ffde73",
   "metadata": {},
   "outputs": [
    {
     "data": {
      "text/plain": [
       "3"
      ]
     },
     "execution_count": 76,
     "metadata": {},
     "output_type": "execute_result"
    }
   ],
   "source": [
    "y"
   ]
  },
  {
   "cell_type": "code",
   "execution_count": 79,
   "id": "1cc05d5e",
   "metadata": {},
   "outputs": [
    {
     "ename": "SyntaxError",
     "evalue": "invalid syntax (852817858.py, line 1)",
     "output_type": "error",
     "traceback": [
      "\u001b[0;36m  Input \u001b[0;32mIn [79]\u001b[0;36m\u001b[0m\n\u001b[0;31m    for i<5:\u001b[0m\n\u001b[0m           ^\u001b[0m\n\u001b[0;31mSyntaxError\u001b[0m\u001b[0;31m:\u001b[0m invalid syntax\n"
     ]
    }
   ],
   "source": [
    "for i<5:\n",
    "    print(i)"
   ]
  },
  {
   "cell_type": "code",
   "execution_count": 85,
   "id": "38e3ca18",
   "metadata": {},
   "outputs": [
    {
     "ename": "ImportError",
     "evalue": "cannot import name 'split' from 'string' (/Users/owner/opt/anaconda3/lib/python3.9/string.py)",
     "output_type": "error",
     "traceback": [
      "\u001b[0;31m---------------------------------------------------------------------------\u001b[0m",
      "\u001b[0;31mImportError\u001b[0m                               Traceback (most recent call last)",
      "Input \u001b[0;32mIn [85]\u001b[0m, in \u001b[0;36m<cell line: 1>\u001b[0;34m()\u001b[0m\n\u001b[0;32m----> 1\u001b[0m \u001b[38;5;28;01mfrom\u001b[39;00m \u001b[38;5;21;01mstring\u001b[39;00m \u001b[38;5;28;01mimport\u001b[39;00m split,join\n",
      "\u001b[0;31mImportError\u001b[0m: cannot import name 'split' from 'string' (/Users/owner/opt/anaconda3/lib/python3.9/string.py)"
     ]
    }
   ],
   "source": [
    "from string import split,join"
   ]
  },
  {
   "cell_type": "code",
   "execution_count": 84,
   "id": "403317d6",
   "metadata": {},
   "outputs": [
    {
     "ename": "AttributeError",
     "evalue": "module 'string' has no attribute 'split'",
     "output_type": "error",
     "traceback": [
      "\u001b[0;31m---------------------------------------------------------------------------\u001b[0m",
      "\u001b[0;31mAttributeError\u001b[0m                            Traceback (most recent call last)",
      "Input \u001b[0;32mIn [84]\u001b[0m, in \u001b[0;36m<cell line: 2>\u001b[0;34m()\u001b[0m\n\u001b[1;32m      1\u001b[0m \u001b[38;5;28mstr\u001b[39m \u001b[38;5;241m=\u001b[39m \u001b[38;5;124m'\u001b[39m\u001b[38;5;124mone two three\u001b[39m\u001b[38;5;124m'\u001b[39m\n\u001b[0;32m----> 2\u001b[0m \u001b[43mstring\u001b[49m\u001b[38;5;241;43m.\u001b[39;49m\u001b[43msplit\u001b[49m(\u001b[38;5;28mstr\u001b[39m,\u001b[38;5;124m'\u001b[39m\u001b[38;5;124m \u001b[39m\u001b[38;5;124m'\u001b[39m)\n",
      "\u001b[0;31mAttributeError\u001b[0m: module 'string' has no attribute 'split'"
     ]
    }
   ],
   "source": [
    "str = 'one two three'\n",
    "string.split(str,' ')"
   ]
  },
  {
   "cell_type": "code",
   "execution_count": 88,
   "id": "4f541e1f",
   "metadata": {},
   "outputs": [
    {
     "name": "stdout",
     "output_type": "stream",
     "text": [
      "ntm\n"
     ]
    }
   ],
   "source": [
    "x=-5 \n",
    "if x>0:\n",
    "    print(x)\n",
    "else:\n",
    "    print('ntm')"
   ]
  },
  {
   "cell_type": "code",
   "execution_count": 94,
   "id": "a4bf2dc6",
   "metadata": {},
   "outputs": [
    {
     "name": "stdout",
     "output_type": "stream",
     "text": [
      "5\n",
      "x=5\n",
      "x-5=0\n"
     ]
    }
   ],
   "source": [
    "x=5\n",
    "if x>0:\n",
    "    print(x)\n",
    "else:\n",
    "    print('ntm')\n",
    "if x==5:\n",
    "    print('x=5')\n",
    "else:\n",
    "    print('ntm')    \n",
    "if x-5==0:\n",
    "    print('x-5=0')\n",
    "else:\n",
    "    print('ntm')"
   ]
  },
  {
   "cell_type": "code",
   "execution_count": 110,
   "id": "4adfd788",
   "metadata": {},
   "outputs": [],
   "source": []
  },
  {
   "cell_type": "code",
   "execution_count": 112,
   "id": "786a4e6f",
   "metadata": {},
   "outputs": [],
   "source": [
    "X=[0]\n",
    "while X[-1]<10:\n",
    "    X.append(X[-1]+1)"
   ]
  },
  {
   "cell_type": "code",
   "execution_count": 113,
   "id": "c9a0e00b",
   "metadata": {},
   "outputs": [
    {
     "data": {
      "text/plain": [
       "[0, 1, 2, 3, 4, 5, 6, 7, 8, 9, 10]"
      ]
     },
     "execution_count": 113,
     "metadata": {},
     "output_type": "execute_result"
    }
   ],
   "source": [
    "X"
   ]
  },
  {
   "cell_type": "code",
   "execution_count": 122,
   "id": "62090104",
   "metadata": {},
   "outputs": [
    {
     "name": "stdout",
     "output_type": "stream",
     "text": [
      "completed\n"
     ]
    }
   ],
   "source": [
    "Y=[]\n",
    "for var in X:\n",
    "    Y.append(var*(var+1))\n",
    "else:\n",
    "    print('completed')"
   ]
  },
  {
   "cell_type": "code",
   "execution_count": 121,
   "id": "c7f04a28",
   "metadata": {},
   "outputs": [
    {
     "data": {
      "text/plain": [
       "[0, 2, 6, 12, 20, 30, 42, 56, 72, 90, 110]"
      ]
     },
     "execution_count": 121,
     "metadata": {},
     "output_type": "execute_result"
    }
   ],
   "source": [
    "Y"
   ]
  },
  {
   "cell_type": "code",
   "execution_count": 136,
   "id": "057014bd",
   "metadata": {},
   "outputs": [],
   "source": [
    "names = [('Smith','John'),('Jones','Fred'),('Williams','Sue')]"
   ]
  },
  {
   "cell_type": "code",
   "execution_count": 143,
   "id": "b9ee5d71",
   "metadata": {},
   "outputs": [
    {
     "name": "stdout",
     "output_type": "stream",
     "text": [
      "John Smith\n",
      "Fred Jones\n",
      "Sue Williams\n"
     ]
    }
   ],
   "source": [
    "for x,y in names:\n",
    "    print('%s %s' % (y,x))"
   ]
  },
  {
   "cell_type": "code",
   "execution_count": 141,
   "id": "afec1f90",
   "metadata": {},
   "outputs": [
    {
     "data": {
      "text/plain": [
       "'The number is 7'"
      ]
     },
     "execution_count": 141,
     "metadata": {},
     "output_type": "execute_result"
    }
   ],
   "source": [
    "fstring = 'The number is %s' % ('7')\n",
    "fstring"
   ]
  },
  {
   "cell_type": "code",
   "execution_count": 150,
   "id": "5d220be0",
   "metadata": {},
   "outputs": [],
   "source": [
    "f=open('Documents/text.rtf','r')"
   ]
  },
  {
   "cell_type": "code",
   "execution_count": 151,
   "id": "0a392a04",
   "metadata": {},
   "outputs": [],
   "source": [
    "maxl=0\n",
    "for x in f:\n",
    "    l=len(x)\n",
    "    if l>maxl:\n",
    "        maxl=l"
   ]
  },
  {
   "cell_type": "code",
   "execution_count": 152,
   "id": "58789c59",
   "metadata": {},
   "outputs": [
    {
     "data": {
      "text/plain": [
       "121"
      ]
     },
     "execution_count": 152,
     "metadata": {},
     "output_type": "execute_result"
    }
   ],
   "source": [
    "maxl"
   ]
  },
  {
   "cell_type": "code",
   "execution_count": 153,
   "id": "3f716446",
   "metadata": {},
   "outputs": [
    {
     "data": {
      "text/plain": [
       "[1, 2, 3, 0, 0]"
      ]
     },
     "execution_count": 153,
     "metadata": {},
     "output_type": "execute_result"
    }
   ],
   "source": [
    "x=[1,2,3,4,5]\n",
    "for var in x:\n",
    "    if x[var-1]>3:\n",
    "        x[var-1]=0\n",
    "x"
   ]
  },
  {
   "cell_type": "code",
   "execution_count": null,
   "id": "3a87db59",
   "metadata": {},
   "outputs": [],
   "source": []
  }
 ],
 "metadata": {
  "kernelspec": {
   "display_name": "Python 3 (ipykernel)",
   "language": "python",
   "name": "python3"
  },
  "language_info": {
   "codemirror_mode": {
    "name": "ipython",
    "version": 3
   },
   "file_extension": ".py",
   "mimetype": "text/x-python",
   "name": "python",
   "nbconvert_exporter": "python",
   "pygments_lexer": "ipython3",
   "version": "3.9.12"
  }
 },
 "nbformat": 4,
 "nbformat_minor": 5
}
